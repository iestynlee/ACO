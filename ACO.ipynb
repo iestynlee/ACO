{
 "cells": [
  {
   "cell_type": "code",
   "execution_count": 4,
   "id": "be2b4d1a",
   "metadata": {},
   "outputs": [],
   "source": [
    "#Importing Libraries\n",
    "import numpy as np\n",
    "import random\n",
    "from numpy import inf"
   ]
  },
  {
   "cell_type": "code",
   "execution_count": 11,
   "id": "336416e2",
   "metadata": {},
   "outputs": [],
   "source": [
    "def cost(m, n, f, D, route, dist_cost):\n",
    "    # Repeat the amount of times of ant paths\n",
    "    for i in range(m):\n",
    "            \n",
    "            cost = 0 # Cost start for each ant\n",
    "            current = np.random.permutation(np.arange(n)) # This is permutation for flow matrix (p vector)\n",
    "            \n",
    "            for j in range(n-1):\n",
    "                # Working out the cost of the entire route\n",
    "                cost += D[int(route[i,j])-1,int(route[i,j+1])-1] * f[current[int(route[i,j])-1]][current[int(route[i,j+1])-1]]\n",
    "            \n",
    "            # Setting the dist cost for each ant here then returning it\n",
    "            dist_cost[i]=cost\n",
    "    return dist_cost"
   ]
  },
  {
   "cell_type": "code",
   "execution_count": 6,
   "id": "300cef4b",
   "metadata": {},
   "outputs": [],
   "source": [
    "def init_phero_matrix(n):\n",
    "    # Matrix of random number between 0 to 1 in a n x n matrix\n",
    "    p = np.random.uniform(0, 1, size=n*n).reshape(n,n)\n",
    "    return p"
   ]
  },
  {
   "cell_type": "code",
   "execution_count": 16,
   "id": "7105f8dd",
   "metadata": {},
   "outputs": [],
   "source": [
    "def prob(d, current, p):\n",
    "    combine = np.zeros(n) # Array of zeros \n",
    "    cummulative = np.zeros(n) # Array of zeros\n",
    "    \n",
    "    d[:,current] = 0     # Making Visiblity of the current city as 0\n",
    "                \n",
    "    df = np.power(d[current,:],alpha)  # Calculate Visibility \n",
    "    pf = np.power(p[current,:],beta)         # Calculate Pheromones\n",
    "            \n",
    "    pf = pf[:,np.newaxis] # Converts a matrix from a 1D array to a 2D array     \n",
    "    df = df[:,np.newaxis] # Converts a matrix from a 1D array to a 2D array \n",
    "    combine = np.multiply(pf,df) # Multiplies the features \n",
    "    total = np.sum(combine) # Gets sum total of combine\n",
    "                \n",
    "    probs = combine/total # Finding probability of element probs(i) = combine(i)/total\n",
    "\n",
    "    cummulative = np.cumsum(probs) # Calculating cummulative sum\n",
    "    \n",
    "    return cummulative"
   ]
  },
  {
   "cell_type": "code",
   "execution_count": 8,
   "id": "0aab2484",
   "metadata": {},
   "outputs": [],
   "source": [
    "def evapourate(p, n, e, m, route, dist):\n",
    "    p = (1-e)*p # Pheromone evapouration\n",
    "    for i in range(m):\n",
    "            for j in range(n-1):\n",
    "                fitness = 1/dist[i] # Fitness Function\n",
    "                # Depositing using the fitness function\n",
    "                p[int(route[i,j])-1,int(route[i,j+1])-1] = p[int(route[i,j])-1,int(route[i,j+1])-1] + fitness\n",
    "    return p"
   ]
  },
  {
   "cell_type": "code",
   "execution_count": 29,
   "id": "44412127",
   "metadata": {},
   "outputs": [],
   "source": [
    "def search(m, e, term, n, D, f, beta, alpha):\n",
    "    np.seterr(divide='ignore', invalid='ignore') # Gets rid of error which doesn't affect code\n",
    "    p = init_phero_matrix(n) # Initialise pheromones\n",
    "    route = np.ones((m,n+1)) # Makes a m x n+1 matrix the +1 is for starting position (filled with 1s)\n",
    "    \n",
    "    # Starts the loop\n",
    "    for ite in range(term):\n",
    "        route[:,0] = 1 # To make sure the start and the end is 1\n",
    "        for i in range(m):\n",
    "            dis = np.array(D) # Copy of distance matrix\n",
    "            for j in range(n-1):\n",
    "                \n",
    "                current = int(route[i,j]-1) # Current City of the Ant\n",
    "                cummulative = prob(dis, current, p) # Probabilities\n",
    "                ran = np.random.random_sample() # Randon number between 0 and 1\n",
    "        \n",
    "                # This is to stop it from dividing arrays with 0 items \n",
    "                try:\n",
    "                    # Finding the next city having probability higher than r\n",
    "                    city = np.nonzero(cummulative>ran)[0][0]+1 \n",
    "                except IndexError:\n",
    "                    pass\n",
    "                \n",
    "                route[i,j+1] = city # Adding city to route \n",
    "                \n",
    "            left = list(set([i for i in range(1,n+1)])-set(route[i,:-2]))[0] # Finding what cities are left\n",
    "            route[i,-2] = left # Adding untraversed city to route\n",
    "        \n",
    "        optimum = np.array(route) # Intializing optimal route\n",
    "        dist_cost = np.zeros((m,1)) # Intializing total distance with zero \n",
    "        \n",
    "        # Cost\n",
    "        c = cost(m, n, f, D, optimum, dist_cost)\n",
    "        \n",
    "        min_loc = np.argmin(c) # Finding location of minimum of distance cost\n",
    "        min_cost = c[min_loc] # Finding minimum of distance cost\n",
    "        best_route = route[min_loc,:] # Intializing current traversed as best route\n",
    "        \n",
    "        # Evapouration and Pheromone deposit\n",
    "        p = evapourate(p, n, e, m, optimum, c)\n",
    "    \n",
    "    # Best path cost calculation\n",
    "    min_cost = int(min_cost[0]) + D[int(best_route[-2])-1,0]\n",
    "    \n",
    "    return best_route, min_cost, optimum"
   ]
  },
  {
   "cell_type": "code",
   "execution_count": 32,
   "id": "fda021a4",
   "metadata": {
    "scrolled": true
   },
   "outputs": [
    {
     "name": "stdout",
     "output_type": "stream",
     "text": [
      "Route of all the ants at the end :\n",
      "\n",
      "[[ 1.  4. 18. ... 26. 14.  1.]\n",
      " [ 1. 30. 35. ... 23.  6.  1.]\n",
      " [ 1. 34. 33. ...  3. 45.  1.]\n",
      " ...\n",
      " [ 1. 34. 10. ... 45. 36.  1.]\n",
      " [ 1. 22. 43. ... 45.  3.  1.]\n",
      " [ 1. 34. 46. ... 40.  8.  1.]]\n",
      "\n",
      "Best path : [ 1. 32. 46. 22. 24. 10. 23. 44.  6. 16. 41. 11. 17. 36. 40. 21.  7.  2.\n",
      " 25. 37. 12. 20. 33. 47. 19. 15. 42. 30. 35. 49. 38. 29.  4. 26. 50. 34.\n",
      "  8. 45. 28. 39. 27. 18.  3. 13. 31. 43. 48.  5. 14.  9.  1.]\n",
      "\n",
      "Cost of the best path 95900\n"
     ]
    }
   ],
   "source": [
    "# Initial Variables and Start\n",
    "ants = 100 # m\n",
    "evaporation = 0.9 # e\n",
    "iterations = 100 # For termination\n",
    "alpha = 1 # Pheromone Factor\n",
    "beta = 2 # Visiblity Factor\n",
    "\n",
    "fitness_eva = ants * iterations # Work out fitness eva before starting to confirm that numbers are right for trials\n",
    "\n",
    "# Loading the file\n",
    "filename = 'Uni50a.dat'\n",
    "\n",
    "# Gets the whole two matrices together skips first number in the file\n",
    "data = np.genfromtxt(filename, dtype=int, skip_header=1)\n",
    "\n",
    "# This gets the first number which is for the n\n",
    "with open(filename, \"r\") as fp:\n",
    "    lines = fp.readlines()\n",
    "    first = lines[0].split(',')[0]\n",
    "\n",
    "n = int(first) # 50\n",
    "matrix = np.split(data, 2) # Splits matrix in two\n",
    "\n",
    "# Distance and Flow matrix\n",
    "D = matrix[0]\n",
    "f = matrix[1]\n",
    "\n",
    "# Double check if it is 10000 fitness evaulations\n",
    "if(fitness_eva == 10000):\n",
    "    # Searches with ACO\n",
    "    best, minc, opt = search(ants, evaporation, iterations, n, D, f, beta, alpha)\n",
    "    # Prints all the answers\n",
    "    print('Route of all the ants at the end :\\n')\n",
    "    print(opt)\n",
    "    print('\\nBest path :', best)\n",
    "    print('\\nCost of the best path', minc)\n",
    "else:\n",
    "    print(\"Choose Values for fitness evaluations to equal 10000\")"
   ]
  }
 ],
 "metadata": {
  "kernelspec": {
   "display_name": "Python 3 (ipykernel)",
   "language": "python",
   "name": "python3"
  },
  "language_info": {
   "codemirror_mode": {
    "name": "ipython",
    "version": 3
   },
   "file_extension": ".py",
   "mimetype": "text/x-python",
   "name": "python",
   "nbconvert_exporter": "python",
   "pygments_lexer": "ipython3",
   "version": "3.9.12"
  }
 },
 "nbformat": 4,
 "nbformat_minor": 5
}
